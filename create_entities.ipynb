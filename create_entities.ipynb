{
  "nbformat": 4,
  "nbformat_minor": 0,
  "metadata": {
    "colab": {
      "name": "create_entities.ipynb",
      "version": "0.3.2",
      "provenance": [],
      "collapsed_sections": [],
      "include_colab_link": true
    },
    "kernelspec": {
      "name": "python3",
      "display_name": "Python 3"
    }
  },
  "cells": [
    {
      "cell_type": "markdown",
      "metadata": {
        "id": "view-in-github",
        "colab_type": "text"
      },
      "source": [
        "[View in Colaboratory](https://colab.research.google.com/github/vivekster12/Parser/blob/master/create_entities.ipynb)"
      ]
    },
    {
      "metadata": {
        "id": "MZznpDdeW78E",
        "colab_type": "code",
        "colab": {}
      },
      "cell_type": "code",
      "source": [
        "import sys\n",
        "print (sys.argv)"
      ],
      "execution_count": 0,
      "outputs": []
    },
    {
      "metadata": {
        "id": "cbkrFQoxXnZt",
        "colab_type": "code",
        "colab": {}
      },
      "cell_type": "code",
      "source": [
        "import pandas as pd\n",
        "import numpy as np\n",
        "from google.colab import files\n",
        "import io"
      ],
      "execution_count": 0,
      "outputs": []
    },
    {
      "metadata": {
        "id": "OPJBHRg6YA9y",
        "colab_type": "code",
        "colab": {
          "resources": {
            "http://localhost:8080/nbextensions/google.colab/files.js": {
              "data": "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",
              "ok": true,
              "headers": [
                [
                  "content-type",
                  "application/javascript"
                ]
              ],
              "status": 200,
              "status_text": ""
            }
          },
          "base_uri": "https://localhost:8080/",
          "height": 73
        },
        "outputId": "3118bbe2-eb8a-42f3-e653-acf6849bd8e5"
      },
      "cell_type": "code",
      "source": [
        "uploaded = files.upload()"
      ],
      "execution_count": 3,
      "outputs": [
        {
          "output_type": "display_data",
          "data": {
            "text/html": [
              "\n",
              "     <input type=\"file\" id=\"files-f4b36961-11e4-4d56-8e58-0fd253937e0d\" name=\"files[]\" multiple disabled />\n",
              "     <output id=\"result-f4b36961-11e4-4d56-8e58-0fd253937e0d\">\n",
              "      Upload widget is only available when the cell has been executed in the\n",
              "      current browser session. Please rerun this cell to enable.\n",
              "      </output>\n",
              "      <script src=\"/nbextensions/google.colab/files.js\"></script> "
            ],
            "text/plain": [
              "<IPython.core.display.HTML object>"
            ]
          },
          "metadata": {
            "tags": []
          }
        },
        {
          "output_type": "stream",
          "text": [
            "Saving Opioid_FREETEXT_HANDCODING.csv to Opioid_FREETEXT_HANDCODING.csv\n"
          ],
          "name": "stdout"
        }
      ]
    },
    {
      "metadata": {
        "id": "NMgz6DjaYDb6",
        "colab_type": "code",
        "colab": {}
      },
      "cell_type": "code",
      "source": [
        "corpus = pd.read_csv(io.StringIO(uploaded['Opioid_FREETEXT_HANDCODING.csv'].decode('CP1252')),sep=',')"
      ],
      "execution_count": 0,
      "outputs": []
    },
    {
      "metadata": {
        "id": "itM3GWidYLX0",
        "colab_type": "code",
        "colab": {}
      },
      "cell_type": "code",
      "source": [
        "prescriptions = corpus['freetext_posology'].values"
      ],
      "execution_count": 0,
      "outputs": []
    },
    {
      "metadata": {
        "id": "uYR78gVpxOgG",
        "colab_type": "code",
        "colab": {}
      },
      "cell_type": "code",
      "source": [
        "gen_name = corpus['generic_name'].values"
      ],
      "execution_count": 0,
      "outputs": []
    },
    {
      "metadata": {
        "id": "Ak1NJWiA22rI",
        "colab_type": "code",
        "colab": {}
      },
      "cell_type": "code",
      "source": [
        "variable_dose_over_time = corpus['variable_dose_over_time'].values"
      ],
      "execution_count": 0,
      "outputs": []
    },
    {
      "metadata": {
        "id": "Xxm5tgJl0g0s",
        "colab_type": "code",
        "colab": {}
      },
      "cell_type": "code",
      "source": [
        "var_presc = []\n",
        "for i,line in enumerate(variable_dose_over_time):\n",
        "  if (not np.isnan(line)):\n",
        "    var_presc.append(prescriptions[i])\n",
        "\n",
        "print (len(var_presc))"
      ],
      "execution_count": 0,
      "outputs": []
    },
    {
      "metadata": {
        "id": "-xhFE2pB_F0G",
        "colab_type": "code",
        "colab": {}
      },
      "cell_type": "code",
      "source": [
        "start_num = 0\n",
        "while True:\n",
        "  start_num = int(input('presc start number: '))\n",
        "  var_presc = var_presc[start_num:]\n",
        "  break\n",
        "\n",
        "input_file = []  \n",
        "output_file = label_entities(var_presc, input_file)"
      ],
      "execution_count": 0,
      "outputs": []
    },
    {
      "metadata": {
        "id": "BzLEgb8hxaKR",
        "colab_type": "code",
        "colab": {}
      },
      "cell_type": "code",
      "source": [
        "mul_drug_presc = []\n",
        "for i,entry in enumerate(gen_name):\n",
        "  if ('+' in entry):\n",
        "    print (prescriptions[i])\n",
        "    mul_drug_presc.append(prescriptions[i])\n",
        "\n",
        "# print (len(mul_drug_presc))"
      ],
      "execution_count": 0,
      "outputs": []
    },
    {
      "metadata": {
        "id": "PSl7y4cczpoY",
        "colab_type": "code",
        "colab": {}
      },
      "cell_type": "code",
      "source": [
        "start_num = 0\n",
        "while True:\n",
        "  start_num = int(input('presc start number: '))\n",
        "  mul_drug_presc = mul_drug_presc[start_num:]\n",
        "  break\n",
        "\n",
        "input_file = []  \n",
        "output_file = label_entities(mul_drug_presc, input_file)"
      ],
      "execution_count": 0,
      "outputs": []
    },
    {
      "metadata": {
        "id": "WKTsLkI2YPje",
        "colab_type": "code",
        "colab": {}
      },
      "cell_type": "code",
      "source": [
        "def label_entities(prescriptions, input_file):\n",
        "  \n",
        "  print ('''\n",
        "      --> hit 'ENTER' to continue NER on current prescription\n",
        "      --> type 'next' for next prescription hit\n",
        "      --> type 'exit' to exit (info up to the last prescription will be saved)\n",
        "      ''')\n",
        "  \n",
        "  for i,prescription in enumerate(prescriptions):\n",
        "    #file = []\n",
        "    entities_per_presc = ()\n",
        "    dict = {}\n",
        "    dict ['entities'] = []\n",
        "    \n",
        "    entities_per_presc = entities_per_presc + (prescription,)\n",
        "    p_num = i + start_num\n",
        "    \n",
        "    print ('p_num: ',p_num)\n",
        "    \n",
        "    presc_arr = prescription.lower().split(\" \")\n",
        "    print (prescription, ' --- ',presc_arr)\n",
        "    space = 0\n",
        "    for word in presc_arr:\n",
        "      start = prescription.lower().find(word)\n",
        "      end = start + len(word)\n",
        "      print (word, start, end)\n",
        "      space = 1\n",
        "    \n",
        "    # need a while loop here\n",
        "    while True:\n",
        "      \n",
        "      command = input(\"command: \")\n",
        "      \n",
        "      if command == 'next':\n",
        "        entities_per_presc = entities_per_presc + (dict,)\n",
        "        #file.append(entities_per_presc)\n",
        "        input_file.append(entities_per_presc)\n",
        "        break\n",
        "      \n",
        "      elif command == 'exit':\n",
        "        return input_file\n",
        "      \n",
        "      else:\n",
        "        list = []\n",
        "        \n",
        "        try:\n",
        "          start = int(input(\"start position: \"))\n",
        "        except ValueError:\n",
        "          if start == 'exit':\n",
        "            return input_file\n",
        "        \n",
        "        try:\n",
        "          end = int(input(\"end position: \"))\n",
        "        except ValueError:\n",
        "          if end == 'exit':\n",
        "            return input_file\n",
        "        \n",
        "        entity_name = input(\"entity name: \")\n",
        "        if entity_name == 'exit':\n",
        "          return input_file\n",
        "        \n",
        "        list.append(start)\n",
        "        list.append(end)\n",
        "        list.append(entity_name)\n",
        "        dict ['entities'].append(tuple(list))\n",
        "        \n",
        "\n",
        "  return input_file\n",
        "  "
      ],
      "execution_count": 0,
      "outputs": []
    },
    {
      "metadata": {
        "id": "3gevLZ0TajBd",
        "colab_type": "code",
        "colab": {}
      },
      "cell_type": "code",
      "source": [
        "start_num = 0\n",
        "while True:\n",
        "  start_num = int(input('presc start number: '))\n",
        "  prescriptions = prescriptions[start_num:]\n",
        "  break\n",
        "\n",
        "input_file = []  \n",
        "output_file = label_entities(prescriptions, input_file)"
      ],
      "execution_count": 0,
      "outputs": []
    },
    {
      "metadata": {
        "id": "u5vnhHUT5CbO",
        "colab_type": "code",
        "colab": {
          "base_uri": "https://localhost:8080/",
          "height": 55
        },
        "outputId": "b3474308-4a7d-40f4-bf32-dd345e4d5b70"
      },
      "cell_type": "code",
      "source": [
        "print (output_file)"
      ],
      "execution_count": 17,
      "outputs": [
        {
          "output_type": "stream",
          "text": [
            "[('37.5+325 mg 1 to 2 tabs PO q6h PRN', {'entities': [(0, 4, 'STRENGTH'), (5, 8, 'STRENGTH'), (9, 11, 'UNITS'), (12, 18, 'VAR_NUM_TABS'), (19, 23, 'TABS'), (27, 30, 'FREQ'), (31, 34, 'PRN')]}), ('8-300-15 mg tab : as directed (over the counter, annexe 2)', {'entities': [(0, 1, 'STRENGTH'), (2, 5, 'STRENGTH'), (6, 8, 'STRENGTH'), (9, 11, 'UNITS'), (12, 15, 'TABS')]}), ('30+300 mg 1-2 tab PO q6h PRN', {'entities': [(0, 2, 'STRENGTH'), (3, 6, 'STRENGTH'), (7, 9, 'UNITS'), (10, 13, 'VAR_NUM_TABS'), (14, 17, 'TABS'), (21, 24, 'FREQ'), (25, 28, 'PRN'), (25, 28, '')]}), ('1-2 tablets po q5h prn x 2 weeks', {'entities': [(0, 3, 'VAR_NUM_TABS'), (4, 11, 'TABS'), (15, 18, 'FREQ'), (19, 22, 'PRN')]}), ('37.5-325 mg : 1-2 tab po QID PRN', {'entities': [(0, 4, 'STRENGTH'), (5, 8, 'STRENGTH'), (9, 11, 'UNITS'), (14, 17, 'VAR_NUM_TABS'), (18, 21, 'TABS'), (25, 28, 'FREQ'), (29, 32, 'PRN')]}), ('30-300 mg tab : 1 tab po BID', {'entities': [(0, 2, 'STRENGTH'), (3, 6, 'STRENGTH'), (7, 9, 'UNITS'), (16, 17, 'NUM_TABS'), (18, 21, 'TABS'), (25, 28, 'FREQ')]}), ('tablet 15+325+30 mg: 1-2 tablet q4h prn if pain', {'entities': [(7, 9, 'STRENGTH'), (10, 13, 'STRENGTH'), (14, 16, 'STRENGTH'), (17, 19, 'UNITS'), (21, 24, 'VAR_NUM_TABS'), (25, 31, 'TABS'), (32, 35, 'FREQ'), (36, 39, 'PRN')]}), ('tablet 30+300MG: 1-2 tab QID prn', {'entities': [(7, 9, 'STRENGTH'), (10, 13, 'STRENGTH'), (13, 15, 'UNITS'), (17, 20, 'VAR_NUM_TABS'), (21, 24, 'TABS'), (25, 28, 'FREQ'), (29, 32, 'PRN')]}), ('30+300 2 tabs qHS', {'entities': [(0, 2, 'STRENGTH'), (3, 6, 'STRENGTH'), (7, 8, 'NUM_TABS'), (9, 13, 'TABS'), (14, 17, 'FREQ')]}), ('30-300 mg tab : 1-2 tab po q4h prn', {'entities': [(0, 2, 'STRENGTH'), (3, 6, 'STRENGTH'), (7, 9, 'UNITS'), (10, 13, 'TABS'), (16, 19, 'VAR_NUM_TABS'), (27, 30, 'FREQ'), (31, 34, 'PRN')]}), ('5+2,5 mg 1 tab po q12h - Please follow Dr Vigano exit order', {'entities': [(0, 1, 'STRENGTH'), (2, 3, 'STRENGTH'), (6, 8, 'UNITS'), (9, 10, 'NUM_TABS'), (11, 14, 'TABS'), (18, 22, 'FREQ')]}), ('30+300 mg 1 tab PO q4-6h PRN (prescribed on 15JUN2016).', {'entities': [(0, 2, 'STRENGTH'), (3, 6, 'STRENGTH'), (7, 9, 'UNITS'), (10, 11, 'NUM_TABS'), (12, 15, 'TABS'), (19, 24, 'VAR_FREQ'), (25, 28, 'PRN')]}), ('5 mg - 2.5 mg  - 2 tabs PO qam and 1 tab PO qHS', {'entities': [(0, 1, 'STRENGTH'), (7, 10, 'STRENGTH'), (2, 4, 'UNITS'), (17, 18, 'NUM_TABS'), (19, 23, 'TABS'), (27, 0, 'FREQ'), (31, 34, 'VAR_OVER_TIME'), (35, 36, 'NUM_TABS'), (37, 40, 'TABS'), (44, 47, 'FREQ')]}), ('5 mg - 2.5 mg  - 2 tabs PO qam and 1 tab PO qHS', {'entities': []}), ('(Co-Codamol) 30-500 mg :  1-2 tablets po QID PRN for pain', {'entities': [(13, 15, 'STRENGTH'), (16, 19, 'STRENGTH'), (20, 22, 'UNITS'), (26, 29, 'VAR_NUM_TABS'), (30, 37, 'TABS'), (41, 44, 'FREQ'), (45, 48, 'PRN')]}), ('1-2 tab PO QID PRN', {'entities': [(0, 3, 'VAR_NUM_TABS'), (4, 7, 'TABS'), (11, 14, 'FREQ'), (15, 18, 'PRN')]}), ('30+300 mg tab  1/2 tablet po BID PRN - Serve 30 tablets at a time', {'entities': [(0, 2, 'STRENGTH'), (3, 6, 'STRENGTH'), (7, 9, 'UNITS'), (15, 18, 'NUM_TABS'), (19, 25, 'TABS'), (29, 32, 'FREQ'), (33, 36, 'PRN')]}), ('Annexe II: Tylenol 300 mg + Codeine 8 mg tab   1-2 tabs po PRN (taken rarely for migraines)', {'entities': [(19, 22, 'STRENGTH'), (36, 37, 'STRENGTH'), (23, 25, 'UNITS'), (47, 50, 'VAR_NUM_TABS'), (51, 5, 'TABS'), (59, 62, 'PRN')]}), ('5+325 mg  1 tab po DAILY to BID PRN', {'entities': [(0, 1, 'STRENGTH'), (2, 5, 'STRENGTH'), (6, 8, 'UNITS'), (10, 11, 'NUM_TABS'), (12, 15, 'TABS'), (19, 31, 'VAR_FREQ'), (32, 35, 'PRN')]}), ('325mg-37.5mg - 1-2 tab PO q4-6h prn (max 8 tabs/day)', {'entities': [(0, 3, 'STRENGTH'), (6, 10, 'STRENGTH'), (10, 12, 'UNITS'), (15, 18, 'VAR_NUM_TABS'), (19, 22, 'TABS'), (26, 31, 'VAR_FREQ'), (32, 35, 'PRN'), (36, 52, 'FREQ')]}), ('37.5-325 mg : 1-2 tab po q6h prn', {'entities': [(0, 4, 'STRENGTH'), (5, 8, 'STRENGTH'), (9, 11, 'UNITS'), (14, 17, 'VAR_NUM_TABS'), (18, 21, 'TABS'), (25, 28, 'FREQ'), (29, 32, 'PRN')]}), ('37.5 mg + 325 mg: 1-2 tab  q8h prn', {'entities': [(0, 4, 'STRENGTH'), (10, 13, 'STRENGTH'), (5, 7, 'UNITS'), (18, 21, 'VAR_NUM_TABS'), (22, 25, 'TABS'), (27, 30, 'FREQ'), (31, 34, 'PRN')]}), ('5+325 mg  1 tab po DAILY to BID PRN', {'entities': [(0, 1, 'STRENGTH'), (2, 5, 'STRENGTH'), (6, 8, 'UNITS'), (10, 11, 'NUM_TABS'), (12, 15, 'TABS'), (19, 31, 'VAR_FREQ'), (32, 35, 'PRN')]}), ('30+300 mg tablets; 1 to 2 tablets q4h PRN (dispense 40 tablets at a time)', {'entities': [(0, 2, 'STRENGTH'), (3, 6, 'STRENGTH'), (7, 9, 'UNITS'), (19, 25, 'VAR_NUM_TABS'), (26, 33, 'TABS'), (34, 37, 'FREQ'), (38, 41, 'PRN')]}), ('caplet 8+300+15 mg - 1 caplet q4-6h PRN', {'entities': [(7, 8, 'STRENGTH'), (9, 12, 'STRENGTH'), (10, 15, 'STRENGTH'), (16, 18, 'UNITS'), (21, 22, 'NUM_TABS'), (23, 29, 'TABS'), (30, 35, 'VAR_FREQ'), (36, 39, 'PRN')]}), ('5+2,5 mg 1 tab po q12h - Please follow Dr Vigano exit order', {'entities': [(0, 1, 'STRENGTH'), (2, 3, 'STRENGTH'), (6, 8, 'UNITS'), (9, 10, 'NUM_TABS'), (11, 14, 'TABS'), (18, 22, 'FREQ')]}), ('30+300 2 tabs qHS', {'entities': [(0, 2, 'STRENGTH'), (3, 6, 'STRENGTH'), (7, 8, 'NUM_TABS'), (9, 13, 'TABS'), (14, 17, 'FREQ')]}), ('5+325 mg  1 tab po q4-6h PRN if severe pain', {'entities': [(0, 1, 'STRENGTH'), (2, 5, 'STRENGTH'), (6, 8, 'UNITS'), (10, 11, 'NUM_TABS'), (12, 15, 'TABS'), (19, 24, 'VAR_FREQ'), (25, 28, 'PRN')]}), ('37.5-325 mg tab : 1-2 tab po BID PRN', {'entities': [(0, 4, 'STRENGTH'), (5, 8, 'STRENGTH'), (9, 11, 'UNITS'), (18, 21, 'VAR_NUM_TABS'), (22, 25, 'TABS'), (29, 32, 'FREQ'), (33, 36, 'PRN')]}), ('30-300 mg tab : 1 tab po BID', {'entities': [(0, 2, 'STRENGTH'), (3, 6, 'STRENGTH'), (7, 9, 'UNITS'), (16, 17, 'NUM_TABS'), (18, 21, 'TABS'), (25, 28, 'FREQ')]}), ('tab 30 + 300 mg : 1-2 tab po q6h prn', {'entities': [(4, 6, 'STRENGTH'), (9, 12, 'STRENGTH'), (13, 15, 'UNITS'), (18, 21, 'VAR_NUM_TABS'), (22, 25, 'TABS'), (29, 32, 'FREQ'), (33, 36, 'PRN')]}), ('37.5 mg + 325 mg: 1-2 tab  q8h prn', {'entities': [(0, 4, 'STRENGTH'), (10, 13, 'STRENGTH'), (5, 7, 'UNITS'), (18, 21, 'VAR_NUM_TABS'), (22, 25, 'TABS'), (27, 30, 'FREQ'), (31, 34, 'PRN')]}), ('tablet 30-300mg: 1-2 tab po q6 h prn', {'entities': [(7, 9, 'STRENGTH'), (10, 13, 'STRENGTH'), (14, 16, 'UNITS'), (17, 20, 'VAR_NUM_TABS'), (21, 24, 'TABS'), (28, 32, 'FREQ'), (33, 36, 'PRN')]}), ('caplet 8+300+15 mg - 1 caplet q4-6h PRN', {'entities': [(7, 8, 'STRENGTH'), (9, 12, 'STRENGTH'), (13, 15, 'STRENGTH'), (16, 18, 'UNITS'), (21, 22, 'NUM_TABS'), (23, 29, 'TABS'), (30, 35, 'VAR_FREQ'), (36, 39, 'PRN')]}), ('30+300 mg tab  1/2 tablet po BID PRN - Serve 30 tablets at a time', {'entities': [(0, 2, 'STRENGTH'), (3, 6, 'STRENGTH'), (7, 9, 'UNITS'), (15, 18, 'NUM_TABS'), (19, 25, 'TABS'), (29, 32, 'FREQ'), (33, 36, 'PRN')]}), ('Not taken as per patient', {'entities': []}), ('30+300 mg 1 tab PO QID PRN (serve 25 tablets per week)', {'entities': [(0, 2, 'STRENGTH'), (3, 6, 'STRENGTH'), (7, 9, 'UNITS'), (10, 11, 'NUM_TABS'), (12, 15, 'TABS'), (19, 22, 'FREQ'), (23, 26, 'PRN')]}), ('5+325 mg  1 tab po DAILY to BID PRN', {'entities': [(0, 1, 'STRENGTH'), (2, 5, 'STRENGTH'), (6, 8, 'UNITS'), (10, 11, 'NUM_TABS'), (12, 15, 'TABS'), (19, 31, 'VAR_FREQ'), (32, 35, 'PRB')]}), ('30+300 mg 1-2 tab po q4-6h PRN', {'entities': [(0, 2, 'STRENGTH'), (3, 6, 'STRENGTH'), (7, 9, 'UNITS'), (10, 12, 'VAR_NUM_TABS'), (14, 17, 'TABS'), (21, 26, 'VAR_FREQ'), (27, 30, 'PRN')]}), ('30+300 mg 1-2 tab po q4-6h PRN', {'entities': [(0, 2, 'STRENGTH'), (3, 6, 'STRENGTH'), (7, 6, 'UNITS'), (10, 13, 'VAR_NUM_TABS'), (14, 17, 'TABS'), (21, 26, 'VAR_FREQ'), (27, 30, 'PRN')]}), ('30+300 mg tablets; 1 to 2 tablets q4h PRN (dispense 40 tablets at a time)', {'entities': [(0, 2, 'STRENGTH'), (3, 6, 'STRENGTH'), (7, 9, 'UNITS'), (19, 25, 'VAR_NUM_TABS'), (26, 33, 'TABS'), (34, 37, 'FREQ'), (38, 41, 'PRN')]}), ('30+300 mg 1 tab PO QID PRN (serve 25 tablets per week)', {'entities': [(0, 2, 'STRENGTH'), (3, 6, 'STRENGTH'), (7, 9, 'UNITS'), (10, 11, 'NUM_TABS'), (12, 15, 'TABS'), (19, 22, 'FREQ'), (23, 26, 'PRN')]}), ('37,5 - 325 mg 1-2 tab po q4-6h PRN (#30 tabs - Ren 17; New Rx 22JULY2016)', {'entities': [(0, 4, 'STRENGTH'), (7, 10, 'STRENGTH'), (11, 13, 'UNITS'), (14, 17, 'VAR_NUM_TABS'), (18, 21, 'TABS'), (25, 30, 'VAR_FREQ'), (31, 34, 'PRN')]}), ('Annexe II: Tylenol 300 mg + Codeine 8 mg tab   1-2 tabs po PRN (taken rarely for migraines)', {'entities': []}), ('30+300 mg 1 tablet po qHS - Total 90 tablet - Dispense 30 tabs at a time', {'entities': [(0, 2, 'STRENGTH'), (3, 6, 'STRENGTH'), (7, 9, 'UNITS'), (10, 11, 'NUM_TABS'), (12, 18, 'TABS'), (22, 25, 'FREQ')]}), ('325mg-37.5mg - 1-2 tab PO q4-6h prn (max 8 tabs/day)', {'entities': []}), ('1-2 tabs PO q4h prn', {'entities': [(0, 3, 'VAR_NUM_TABS'), (4, 8, 'TABS'), (12, 15, 'FREQ'), (16, 19, 'PRN')]}), ('30-300 mg tab : 1 tab po BID', {'entities': [(0, 2, 'STRENGTH'), (3, 6, 'STRENGTH'), (16, 17, 'NUM_TABS'), (18, 21, 'TABS'), (25, 28, 'FREQ')]}), ('TABLET 15 + 300 + 30 mg : 2 tabs po QID regular for 48h started on22DEC2014', {'entities': [(7, 9, 'STRENGTH'), (12, 15, 'STRENGTH'), (18, 20, 'STRENGTH'), (21, 23, 'UNITS'), (26, 27, 'NUM_TABS'), (28, 32, 'TABS'), (36, 39, 'FREQ')]}), ('37,5 - 325 mg 1-2 tab po q4-6h PRN (#30 tabs - Ren 17; New Rx 22JULY2016)', {'entities': [(0, 4, 'STRENGTH'), (7, 10, 'STRENGTH'), (11, 13, 'UNITS'), (14, 17, 'VAR_NUM_TABS'), (18, 21, 'TABS'), (25, 30, 'VAR_FRQ'), (31, 34, 'PRN')]}), ('1 to 2 tabs q4-6h PRN', {'entities': [(0, 6, 'VAR_NUM_TABS'), (7, 11, 'TABS'), (12, 17, 'VAR_FREQ'), (18, 21, 'PRN')]}), ('30+300 mg 1-2 tab PO q6h PRN', {'entities': [(0, 2, 'STRENGTH'), (3, 6, 'STRENGTH'), (10, 13, 'VAR_NUM_TABS'), (14, 17, 'TABS'), (21, 24, 'FREQ'), (25, 28, 'PRN')]}), ('8-300-15 mg tab : as directed (over the counter, annexe 2)', {'entities': [(0, 1, 'STRENGTH'), (2, 5, 'STRENGTH'), (6, 8, 'STRENGTH'), (9, 11, 'UNITS'), (9, 11, '')]}), ('5+325 mg  1 tab po DAILY to BID PRN', {'entities': []})]\n"
          ],
          "name": "stdout"
        }
      ]
    },
    {
      "metadata": {
        "id": "UF0th1Pr_Vzz",
        "colab_type": "code",
        "colab": {}
      },
      "cell_type": "code",
      "source": [
        "for entry in output_file:\n",
        "  print (entry)\n",
        "#   break"
      ],
      "execution_count": 0,
      "outputs": []
    },
    {
      "metadata": {
        "id": "km3W778iJC0J",
        "colab_type": "code",
        "colab": {}
      },
      "cell_type": "code",
      "source": [
        "df = pd.DataFrame(data = output_file)\n",
        "df.to_csv('scrap.csv', index = False, header = False)\n",
        "files.download('scrap.csv')"
      ],
      "execution_count": 0,
      "outputs": []
    },
    {
      "metadata": {
        "id": "F6ZhT2Mm_uly",
        "colab_type": "code",
        "colab": {
          "resources": {
            "http://localhost:8080/nbextensions/google.colab/files.js": {
              "data": "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",
              "ok": true,
              "headers": [
                [
                  "content-type",
                  "application/javascript"
                ]
              ],
              "status": 200,
              "status_text": ""
            }
          },
          "base_uri": "https://localhost:8080/",
          "height": 73
        },
        "outputId": "9caa572b-ed02-4527-89cf-497d4e5e3d3c"
      },
      "cell_type": "code",
      "source": [
        "up = files.upload()"
      ],
      "execution_count": 46,
      "outputs": [
        {
          "output_type": "display_data",
          "data": {
            "text/html": [
              "\n",
              "     <input type=\"file\" id=\"files-df74b7eb-0cf6-4afb-8112-63308065dcb9\" name=\"files[]\" multiple disabled />\n",
              "     <output id=\"result-df74b7eb-0cf6-4afb-8112-63308065dcb9\">\n",
              "      Upload widget is only available when the cell has been executed in the\n",
              "      current browser session. Please rerun this cell to enable.\n",
              "      </output>\n",
              "      <script src=\"/nbextensions/google.colab/files.js\"></script> "
            ],
            "text/plain": [
              "<IPython.core.display.HTML object>"
            ]
          },
          "metadata": {
            "tags": []
          }
        },
        {
          "output_type": "stream",
          "text": [
            "Saving NER_10.csv to NER_10 (1).csv\n"
          ],
          "name": "stdout"
        }
      ]
    },
    {
      "metadata": {
        "id": "Dev0y8iRARZW",
        "colab_type": "code",
        "colab": {}
      },
      "cell_type": "code",
      "source": [
        "NER_reg = pd.read_csv(io.StringIO(up['NER_10.csv'].decode('utf-8')),sep=',', header = None)"
      ],
      "execution_count": 0,
      "outputs": []
    },
    {
      "metadata": {
        "id": "2LUXe0jeAyh4",
        "colab_type": "code",
        "colab": {}
      },
      "cell_type": "code",
      "source": [
        "TRAIN_DATA = []\n",
        "for sample in NER_reg.values:\n",
        "#   print (type(sample[1]))\n",
        "  sample[1] = (ast.literal_eval(sample[1]))\n",
        "  print ((sample))\n",
        "  TRAIN_DATA.append(tuple(sample))"
      ],
      "execution_count": 0,
      "outputs": []
    },
    {
      "metadata": {
        "id": "HA6FF0vWmQob",
        "colab_type": "code",
        "colab": {}
      },
      "cell_type": "code",
      "source": [
        "for text, annotations in TRAIN_DATA:\n",
        "  for ent in annotations.get('entities'):\n",
        "    if ('' in ent):\n",
        "      print ('here')\n",
        "      annotations.get('entities').remove(ent)"
      ],
      "execution_count": 0,
      "outputs": []
    },
    {
      "metadata": {
        "id": "InH6yzpYkviJ",
        "colab_type": "code",
        "colab": {}
      },
      "cell_type": "code",
      "source": [
        "print (len(TRAIN_DATA))\n",
        "for line in TRAIN_DATA:\n",
        "  print (line)"
      ],
      "execution_count": 0,
      "outputs": []
    },
    {
      "metadata": {
        "id": "v4ngMj9Uk4Xc",
        "colab_type": "code",
        "colab": {}
      },
      "cell_type": "code",
      "source": [
        "TEST_DATA = []\n",
        "test_corp = prescriptions[193:203]\n",
        "for sample in test_corp:\n",
        "  TEST_DATA.append(sample)"
      ],
      "execution_count": 0,
      "outputs": []
    },
    {
      "metadata": {
        "id": "GxJSY0Q28sY-",
        "colab_type": "code",
        "colab": {
          "base_uri": "https://localhost:8080/",
          "height": 191
        },
        "outputId": "b117529d-2a36-4572-df86-fb2459fbf27d"
      },
      "cell_type": "code",
      "source": [
        "for line in TEST_DATA:\n",
        "  print (line)"
      ],
      "execution_count": 35,
      "outputs": [
        {
          "output_type": "stream",
          "text": [
            "1 mg 0.5 tab PO TID PRN (Total of 90 tabs of 1 mg; serve 30 tabs at the time)\n",
            "for Hydromorph Contin 3 mg PO qAM (total 5 capsules of hydromorphone Contin 3 mg) for acute pain (furuncles), then discontinue\n",
            "0.5 mg PO q4h PRN (total 10 tablets of hydromorphone 1 mg)\n",
            "0.5 mg PO q4h PRN (Total of 60 tabs of 1 mg; serve 30 tablets per service)\n",
            "0.5 mg PO q6h PRN (Total of 120 tablets of 1 mg; serve 40 tablets at the time)\n",
            "3 mg po before dressing change in AM and 2 mg po qHS + 1 mg po PRN\n",
            "patch 50 mcg/h 1 patch TD q72h for 72h (10JUN-13JUN2016), then patch 37 mcg/hr TD q72h for 72h (13-16JUN2016) then stop and start Butrans\n",
            "2-4 mg PO q4-6h PRN (total of 180 tablets of 2 mg; serve 60 tablets at the time)\n",
            "4 mg: 1 to 2 tablets every 4h PRN (dispense 75 tablets at a time)\n",
            "0,5 mg po q6h PRN *Total 100 tablets - Dispense 20 tabs at a time\n"
          ],
          "name": "stdout"
        }
      ]
    },
    {
      "metadata": {
        "id": "8ms8iYsxKyiN",
        "colab_type": "code",
        "colab": {}
      },
      "cell_type": "code",
      "source": [
        "import random"
      ],
      "execution_count": 0,
      "outputs": []
    },
    {
      "metadata": {
        "id": "mSy_0VqJLEvP",
        "colab_type": "code",
        "colab": {}
      },
      "cell_type": "code",
      "source": [
        "from pathlib import Path"
      ],
      "execution_count": 0,
      "outputs": []
    },
    {
      "metadata": {
        "id": "WMEnaQX6BVQx",
        "colab_type": "code",
        "colab": {}
      },
      "cell_type": "code",
      "source": [
        "import ast"
      ],
      "execution_count": 0,
      "outputs": []
    },
    {
      "metadata": {
        "id": "0agm02jAFKr_",
        "colab_type": "code",
        "colab": {
          "base_uri": "https://localhost:8080/",
          "height": 211
        },
        "cellView": "code",
        "outputId": "cf9f35ed-aa57-4f75-c545-44674f95f7c9"
      },
      "cell_type": "code",
      "source": [
        "for line in x:\n",
        "  print (line)"
      ],
      "execution_count": 23,
      "outputs": [
        {
          "output_type": "stream",
          "text": [
            "['2 mg PO BID regularly + BID PRN', [('2', 'DOSE'), ('mg', 'QUANTITY'), ('BID', 'FREQ'), ('BID', 'FREQ'), ('PRN', 'PRN')]]\n",
            "['EXT REL (Contin) 9 mg PO q12h (Total of 180 capsules of 9 mg; serve 60 capsules per month)', [('EXT', 'FREQ'), ('REL', 'PRN'), ('mg', 'QUANTITY'), ('q12h', 'FREQ')]]\n",
            "['1 mg PO q3h PRN (Total of 240 tablets of 1 mg; serve 80 tablets at the time)', [('mg', 'QUANTITY'), ('q3h', 'FREQ'), ('PRN', 'PRN')]]\n",
            "['5 mg po qHS x 30 days then 2.5 mg po BID orn (on 17 SEP2016)', [('mg', 'QUANTITY'), ('qHS', 'FREQ'), ('x', 'PRN'), ('mg', 'QUANTITY'), ('BID', 'FREQ'), ('orn', 'PRN')]]\n",
            "['5 mg po qHS x 30 days then 2.5 mg po BID orn (on 17 SEP2016)', [('mg', 'QUANTITY'), ('qHS', 'FREQ'), ('x', 'PRN'), ('mg', 'QUANTITY'), ('BID', 'FREQ'), ('orn', 'PRN')]]\n",
            "['5 to 7.5 mg po q4h PRN', [('5 to 7.5', 'VAR_DOSE'), ('mg', 'QUANTITY'), ('q4h', 'FREQ'), ('PRN', 'PRN')]]\n",
            "['PATCH 25 MCG/HR TD q72h applied with opsite with a 25 mcg/h (total=37.5 mcg/hr)', [('25', 'FREQ'), ('MCG', 'PRN'), ('q72h', 'FREQ')]]\n",
            "['PATCH 25 MCG/HR TD q72h with a 25 mcg/h applied with opsite (total=37.5 mcg/hr)', [('25', 'FREQ'), ('MCG', 'PRN'), ('q72h', 'FREQ')]]\n",
            "['0.5 mg po q3h prn', [('0.5', 'DOSE'), ('mg', 'QUANTITY'), ('q3h', 'FREQ'), ('prn', 'PRN')]]\n",
            "['1 mg PO q 4 hours PRN. Total of 30 tabs of 1 mg.', [('mg', 'QUANTITY'), ('q', 'FREQ'), ('hours', 'PRN'), ('PRN', 'PRN')]]\n"
          ],
          "name": "stdout"
        }
      ]
    },
    {
      "metadata": {
        "id": "vMCuRVh4jM6I",
        "colab_type": "code",
        "colab": {
          "resources": {
            "http://localhost:8080/nbextensions/google.colab/files.js": {
              "data": "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",
              "ok": true,
              "headers": [
                [
                  "content-type",
                  "application/javascript"
                ]
              ],
              "status": 200,
              "status_text": ""
            }
          },
          "base_uri": "https://localhost:8080/",
          "height": 73
        },
        "outputId": "effb2f8b-2081-438e-baeb-63f302cb50a2"
      },
      "cell_type": "code",
      "source": [
        "up = files.upload()"
      ],
      "execution_count": 66,
      "outputs": [
        {
          "output_type": "display_data",
          "data": {
            "text/html": [
              "\n",
              "     <input type=\"file\" id=\"files-b90982c2-a65c-4058-940e-d52848045cd3\" name=\"files[]\" multiple disabled />\n",
              "     <output id=\"result-b90982c2-a65c-4058-940e-d52848045cd3\">\n",
              "      Upload widget is only available when the cell has been executed in the\n",
              "      current browser session. Please rerun this cell to enable.\n",
              "      </output>\n",
              "      <script src=\"/nbextensions/google.colab/files.js\"></script> "
            ],
            "text/plain": [
              "<IPython.core.display.HTML object>"
            ]
          },
          "metadata": {
            "tags": []
          }
        },
        {
          "output_type": "stream",
          "text": [
            "Saving NER_reg.csv to NER_reg (1).csv\n"
          ],
          "name": "stdout"
        }
      ]
    },
    {
      "metadata": {
        "id": "rjytAH9zjVCm",
        "colab_type": "code",
        "colab": {}
      },
      "cell_type": "code",
      "source": [
        "ner = pd.read_csv(io.StringIO(up['NER_reg.csv'].decode('utf-8')),sep=',', header = None)"
      ],
      "execution_count": 0,
      "outputs": []
    },
    {
      "metadata": {
        "id": "lLFczIUkjeDC",
        "colab_type": "code",
        "colab": {}
      },
      "cell_type": "code",
      "source": [
        "for line in ner.values:\n",
        "  line[1] = (ast.literal_eval(line[1]))"
      ],
      "execution_count": 0,
      "outputs": []
    },
    {
      "metadata": {
        "id": "0g7JzkhQkLh5",
        "colab_type": "code",
        "colab": {}
      },
      "cell_type": "code",
      "source": [
        "for line in ner.values:\n",
        "  print (line[0])\n",
        "  for ent in line[1].get('entities'):\n",
        "    print ((ent))\n"
      ],
      "execution_count": 0,
      "outputs": []
    }
  ]
}